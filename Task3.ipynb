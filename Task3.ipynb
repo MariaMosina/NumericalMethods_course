{
 "cells": [
  {
   "cell_type": "markdown",
   "metadata": {},
   "source": [
    "# Метод Ньютона"
   ]
  },
  {
   "cell_type": "markdown",
   "metadata": {},
   "source": [
    "## Нелинейное уравнение"
   ]
  },
  {
   "cell_type": "markdown",
   "metadata": {},
   "source": [
    "### $ctg(x)-x^2 = 0$"
   ]
  },
  {
   "cell_type": "code",
   "execution_count": 1,
   "metadata": {},
   "outputs": [],
   "source": [
    "eps = 10**(-4)"
   ]
  },
  {
   "cell_type": "code",
   "execution_count": 2,
   "metadata": {},
   "outputs": [],
   "source": [
    "f = lambda x: 1/(np.tan(x))-x**2\n",
    "df = lambda x: -2*x-(1/np.tan(x))**2-1"
   ]
  },
  {
   "cell_type": "code",
   "execution_count": 3,
   "metadata": {},
   "outputs": [
    {
     "name": "stderr",
     "output_type": "stream",
     "text": [
      "C:\\Users\\User\\Programs\\Anaconda3\\lib\\site-packages\\ipykernel_launcher.py:1: RuntimeWarning: divide by zero encountered in true_divide\n",
      "  \"\"\"Entry point for launching an IPython kernel.\n"
     ]
    },
    {
     "data": {
      "text/plain": [
       "<function matplotlib.pyplot.show(*args, **kw)>"
      ]
     },
     "execution_count": 3,
     "metadata": {},
     "output_type": "execute_result"
    },
    {
     "data": {
      "image/png": "[encoded data removed]",
      "text/plain": [
       "<Figure size 432x288 with 1 Axes>"
      ]
     },
     "metadata": {
      "needs_background": "light"
     },
     "output_type": "display_data"
    }
   ],
   "source": [
    "import numpy as np\n",
    "import matplotlib.pyplot as plt\n",
    "%matplotlib inline\n",
    "\n",
    "fig = plt.subplots()\n",
    "x = np.linspace(0, 2,100)\n",
    "plt.plot(x, f(x))\n",
    "plt.grid()\n",
    "plt.show"
   ]
  },
  {
   "cell_type": "code",
   "execution_count": 4,
   "metadata": {},
   "outputs": [],
   "source": [
    "a, b = 0.5, 1.5"
   ]
  },
  {
   "cell_type": "code",
   "execution_count": 5,
   "metadata": {},
   "outputs": [],
   "source": [
    "def search(a, b, n = 10**2-1):\n",
    "    step = abs(b-a)/n\n",
    "    for i in range(n):\n",
    "        if f(a+i*step) * f(a+(i+1)*step) < 0:\n",
    "            st = i\n",
    "            break\n",
    "    a0 = a+st*step\n",
    "    b0 = a+step*(st+1)\n",
    "    return a0, b0\n",
    "\n",
    "a0, b0 = search(a, b)"
   ]
  },
  {
   "cell_type": "code",
   "execution_count": 6,
   "metadata": {},
   "outputs": [],
   "source": [
    "def newton(f, a0, b0):\n",
    "    x_old = a0\n",
    "    x_new = a0+b0\n",
    "    while abs(x_new - x_old) > eps:\n",
    "        c = x_old - f(x_old)/df(x_old)\n",
    "        if c > a0 and c < b0:\n",
    "            if f(c) > 0: a0 = c\n",
    "            else: b0 = c\n",
    "        else:\n",
    "            c = (a0+b0)/2\n",
    "        x_old, x_new = x_new, c\n",
    "    return x_new"
   ]
  },
  {
   "cell_type": "code",
   "execution_count": 7,
   "metadata": {},
   "outputs": [
    {
     "data": {
      "text/plain": [
       "0.8952060453842308"
      ]
     },
     "execution_count": 7,
     "metadata": {},
     "output_type": "execute_result"
    }
   ],
   "source": [
    "newton(f, a0, b0)"
   ]
  },
  {
   "cell_type": "markdown",
   "metadata": {},
   "source": [
    "## Система уравнений"
   ]
  },
  {
   "cell_type": "markdown",
   "metadata": {},
   "source": [
    "### \\begin{cases} cos(x+0.5)+y = 0.8\\\\sin(y)-2x=1.6 \\end{cases}"
   ]
  },
  {
   "cell_type": "code",
   "execution_count": 8,
   "metadata": {},
   "outputs": [
    {
     "name": "stderr",
     "output_type": "stream",
     "text": [
      "C:\\Users\\User\\Programs\\Anaconda3\\lib\\site-packages\\ipykernel_launcher.py:6: RuntimeWarning: invalid value encountered in arcsin\n",
      "  \n"
     ]
    },
    {
     "data": {
      "text/plain": [
       "<function matplotlib.pyplot.show(*args, **kw)>"
      ]
     },
     "execution_count": 8,
     "metadata": {},
     "output_type": "execute_result"
    },
    {
     "data": {
      "image/png": "[encoded data removed]",
      "text/plain": [
       "<Figure size 432x288 with 1 Axes>"
      ]
     },
     "metadata": {
      "needs_background": "light"
     },
     "output_type": "display_data"
    }
   ],
   "source": [
    "from numerical_methods import gauss, Array, v_norm_1\n",
    "fig = plt.subplots()\n",
    "x = np.linspace(0, 2,100)\n",
    "f1 = lambda x: np.cos(x+0.5) -0.8\n",
    "plt.plot(x, f1(x))\n",
    "f2 = lambda x: np.arcsin(2*x-1.6)\n",
    "plt.plot(x, f2(x))\n",
    "plt.grid()\n",
    "plt.show"
   ]
  },
  {
   "cell_type": "code",
   "execution_count": 9,
   "metadata": {},
   "outputs": [],
   "source": [
    "N = 100\n",
    "\n",
    "f1_i = lambda x, y, i: (i/N)*np.cos(x+0.5) + y - 0.8\n",
    "f2_i = lambda x, y, i: (i/N)*np.sin(y) - 2*x - 1.6\n",
    "\n",
    "df1_i_x = lambda x, y, i: -(i/N)*np.sin(x+0.5)\n",
    "df1_i_y = lambda x, y, i: 1\n",
    "df2_i_x = lambda x, y, i: -2\n",
    "df2_i_y = lambda x, y, i: (i/N)*np.cos(y)\n",
    "\n",
    "y0 = 0.8\n",
    "x0 = -0.8"
   ]
  },
  {
   "cell_type": "code",
   "execution_count": 10,
   "metadata": {},
   "outputs": [],
   "source": [
    "def newtom_system(f1_i, f2_i, df1_i_x, df1_i_y, df2_i_x, df2_i_y, x0, y0):\n",
    "    for i in range(1, N+1):\n",
    "        df1_x  = df1_i_x(x0, y0, i)\n",
    "        df1_y  = df1_i_y(x0, y0, i)\n",
    "        df2_x  = df2_i_x(x0, y0, i)\n",
    "        df2_y  = df2_i_y(x0, y0, i)\n",
    "    \n",
    "        A = Array([[df1_x, df1_y], [df2_x, df2_y]])\n",
    "        b = Array([[-f1_i(x0, y0, i), -f2_i(x0, y0, i)]])\n",
    "        g, h = gauss(A, b).array\n",
    "        \n",
    "        x0 += g[0]\n",
    "        y0 += h[0]\n",
    "        if v_norm_1(Array([g[0], h[0]])) < eps: break\n",
    "    return x0, y0"
   ]
  },
  {
   "cell_type": "code",
   "execution_count": 11,
   "metadata": {},
   "outputs": [
    {
     "data": {
      "text/plain": [
       "(-0.8665863790379945, -0.13356568186396559)"
      ]
     },
     "execution_count": 11,
     "metadata": {},
     "output_type": "execute_result"
    }
   ],
   "source": [
    "newtom_system(f1_i, f2_i, df1_i_x, df1_i_y, df2_i_x, df2_i_y, x0, y0)"
   ]
  }
 ],
 "metadata": {
  "kernelspec": {
   "display_name": "Python 3",
   "language": "python",
   "name": "python3"
  },
  "language_info": {
   "codemirror_mode": {
    "name": "ipython",
    "version": 3
   },
   "file_extension": ".py",
   "mimetype": "text/x-python",
   "name": "python",
   "nbconvert_exporter": "python",
   "pygments_lexer": "ipython3",
   "version": "3.7.1"
  }
 },
 "nbformat": 4,
 "nbformat_minor": 2
}
