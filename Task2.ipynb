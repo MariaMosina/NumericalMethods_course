{
 "cells": [
  {
   "cell_type": "code",
   "execution_count": 1,
   "metadata": {},
   "outputs": [],
   "source": [
    "import numpy as np"
   ]
  },
  {
   "cell_type": "code",
   "execution_count": 2,
   "metadata": {},
   "outputs": [],
   "source": [
    "class Array:\n",
    "    \n",
    "    def __init__(self, a):\n",
    "        self.array = np.array(a, dtype = 'float')\n",
    "        self.shape = self.shape_f()\n",
    "\n",
    "    def shape_f(self):\n",
    "        return self.array.shape\n",
    "    \n",
    "    def T(self):\n",
    "        res = np.zeros((self.shape[1], self.shape[0]))\n",
    "        for i in range(self.shape[0]):\n",
    "            for j in range(self.shape[1]):\n",
    "                res[j][i] = self.array[i][j]\n",
    "        return Array(res)\n",
    "        \n",
    "\n",
    "    def plus(self, other):\n",
    "        res = np.array(self.array)\n",
    "        for i in range(self.shape[0]):\n",
    "            for j in range(self.shape[1]):\n",
    "                res[i][j] += other.array[i][j]\n",
    "        return Array(res)\n",
    "\n",
    "    def pointwise_multiply(self, other):\n",
    "        res = np.array(self.array)\n",
    "        for i in range(self.shape[0]):\n",
    "            for j in range(self.shape[1]):\n",
    "                res[i][j] *= other.array[i][j]\n",
    "        return Array(res)\n",
    "    \n",
    "\n",
    "    def matrix_multiply(self, other):\n",
    "        res = np.zeros((self.shape[0], other.shape[1]))\n",
    "        for i in range(self.shape[0]):\n",
    "            for j in range(other.shape[1]):\n",
    "                for k in range(len(self.array[i])):\n",
    "                    res[i][j] += self.array[i][k] * other.array[k][j]\n",
    "        return Array(res)\n",
    "    def det(self):\n",
    "        if self.shape[0] == self.shape[1]:\n",
    "            a = np.array(self.array)\n",
    "            res = a[0][0] * a[1][1] * a[2][2] + a[0][1] * a[1][2] * a[2][0] + a[1][0] * a[2][1] * a[0][2] - \\\n",
    "                  (a[0][2] * a[1][1] * a[2][0] + a[0][1] * a[1][0] * a[2][2] + a[1][2] * a[2][1] * a[0][0])\n",
    "            return res\n",
    "        else: return 0\n",
    "    \n",
    "    # Operators\n",
    "    def __add__(self, other):\n",
    "        return self.plus(other)\n",
    "    \n",
    "    def __sub__(self, other):\n",
    "        return self.plus(Array(-(other.array)))\n",
    "    \n",
    "    def __mul__(self, other):\n",
    "        return self.pointwise_multiply(other)\n",
    "    \n",
    "    def __matmul__(self, other):\n",
    "        return self.matrix_multiply(other)\n",
    "    \n",
    "    def __getitem__(self, ij):\n",
    "        (i, j) = ij\n",
    "        return self.array[i][j]"
   ]
  },
  {
   "cell_type": "code",
   "execution_count": 3,
   "metadata": {},
   "outputs": [],
   "source": [
    "eps = 10**(-3)\n",
    "N = 11"
   ]
  },
  {
   "cell_type": "code",
   "execution_count": 4,
   "metadata": {},
   "outputs": [],
   "source": [
    "# Example\n",
    "A_t = Array([[3, 1, 1], [1, 5, 1], [1, 1, 7]])\n",
    "b_t = Array([[5, 7, 9]])"
   ]
  },
  {
   "cell_type": "code",
   "execution_count": 5,
   "metadata": {},
   "outputs": [],
   "source": [
    "# Example 2\n",
    "A_t2 = Array([[0, 1, 1], [1, 5, 1], [1, 1, 7]])\n",
    "b_t2 = Array([[2, 20, 12]])"
   ]
  },
  {
   "cell_type": "code",
   "execution_count": 6,
   "metadata": {},
   "outputs": [],
   "source": [
    "# Test 0\n",
    "A0 = Array([[0, 2, 3], [1, 2, 4], [4, 5, 6]])\n",
    "b0 = Array([[13, 17, 32]])"
   ]
  },
  {
   "cell_type": "code",
   "execution_count": 7,
   "metadata": {},
   "outputs": [],
   "source": [
    "# Test 1\n",
    "A1 = Array([[N+2, 1, 1], [1, N+4, 1], [1, 1, N+6]])\n",
    "b1 = Array([[N+4, N+6, N+8]])"
   ]
  },
  {
   "cell_type": "code",
   "execution_count": 8,
   "metadata": {},
   "outputs": [],
   "source": [
    "# Test 2\n",
    "A2 = Array([[-(N+2), 1, 1], [1, -(N+4), 1], [1, 1, -(N+6)]])\n",
    "b2 = Array([[-(N+4), -(N+6), -(N+8)]])"
   ]
  },
  {
   "cell_type": "code",
   "execution_count": 9,
   "metadata": {},
   "outputs": [],
   "source": [
    "# Test 3\n",
    "A3 = Array([[-(N+2), N+3, N+4], [N+5, -(N+4), N+1], [N+4, N+5, -(N+6)]])\n",
    "b3 = Array([[N+4, N+6, N+8]])"
   ]
  },
  {
   "cell_type": "code",
   "execution_count": 10,
   "metadata": {},
   "outputs": [],
   "source": [
    "# Test 4\n",
    "A4 = Array([[N+2, N+1, N+1], [N+1, N+4, N+1], [N+1, N+1, N+1]])\n",
    "b4 = Array([[N+4, N+6, N+8]])"
   ]
  },
  {
   "cell_type": "code",
   "execution_count": 11,
   "metadata": {},
   "outputs": [],
   "source": [
    "# A_m = np.array([[1, -1], [-1, 1]])\n",
    "# b_m = np.array([0, 0])"
   ]
  },
  {
   "cell_type": "code",
   "execution_count": 12,
   "metadata": {},
   "outputs": [],
   "source": [
    "A = [A_t, A_t2, A0, A1, A2, A3, A4]#, A_m]\n",
    "b = [b_t, b_t2, b0, b1, b2, b3, b4]#, b_m]"
   ]
  },
  {
   "cell_type": "code",
   "execution_count": 13,
   "metadata": {},
   "outputs": [],
   "source": [
    "def v_norm_inf(v):\n",
    "    return max(v)\n",
    "def v_norm_1(v):\n",
    "    return sum(abs(v))\n",
    "def v_norm_2(v):\n",
    "#     return np.sqrt(v@v.T)\n",
    "    return np.sqrt((v.T() @ v).array[0][0])\n",
    "\n",
    "def m_norm_inf(A):\n",
    "    return max(sum(abs(A)))\n",
    "def m_norm_1(A):\n",
    "    return m_norm_inf(A.T)\n",
    "def m_norm_2(A):\n",
    "#     return np.sqrt(max(np.linalg.eigh(A.T @ A)[0]))\n",
    "    M = A.T() @ A\n",
    "    return np.sqrt(max(np.linalg.eigh(M.array)[0]))\n",
    "def m_norm_f(A):\n",
    "    return sum(sum(A*A))\n",
    "    \n",
    "\n",
    "m_norms = [m_norm_1, m_norm_2, m_norm_inf, m_norm_f]\n",
    "v_norms = [v_norm_1, v_norm_2, v_norm_inf]\n",
    "m_n_norm = 1\n",
    "v_n_norm = 1"
   ]
  },
  {
   "cell_type": "markdown",
   "metadata": {},
   "source": [
    "# Метод простой итерации"
   ]
  },
  {
   "cell_type": "code",
   "execution_count": 14,
   "metadata": {},
   "outputs": [],
   "source": [
    "def simple_iteration(A, b):\n",
    "    if not A.det() :\n",
    "        print(\"Матрица А особая\")\n",
    "        return 0\n",
    "    b = b.T()\n",
    "    n = A.shape[0]\n",
    "    mu = 1/m_norms[m_n_norm](A)\n",
    "    Mu = Array(np.ones(A.shape) * mu)\n",
    "    B = Array(np.eye(n)) - Mu*A\n",
    "    if m_norms[m_n_norm](B)>1:\n",
    "        b = A.T() @ b\n",
    "        A = A.T() @ A\n",
    "        mu = 1/m_norms[m_n_norm](A) \n",
    "        Mu = Array(np.ones(A.shape) * mu)\n",
    "        B = Array(np.eye(n)) - Mu*A\n",
    "        if m_norms[m_n_norm](B)>1:\n",
    "            print('Norm B > 1')\n",
    "            return 0\n",
    "        \n",
    "    Mu = Array(np.ones(b.shape) * mu)\n",
    "    c = Mu * b\n",
    "    x_old = c\n",
    "    x = B @ x_old + c\n",
    "    \n",
    "    B_norm = m_norms[m_n_norm](B)/(1-m_norms[m_n_norm](B))\n",
    "    iterations = 1\n",
    "    while B_norm * v_norms[v_n_norm](x-x_old) > eps:\n",
    "        x_old = x\n",
    "        x = B @ x_old + c\n",
    "        iterations +=1\n",
    "    print('Iterations:', iterations)\n",
    "    print('x:', x.T().array, '\\n')\n",
    "    return x"
   ]
  },
  {
   "cell_type": "code",
   "execution_count": 15,
   "metadata": {},
   "outputs": [
    {
     "name": "stdout",
     "output_type": "stream",
     "text": [
      "\t\tTest 0\n",
      "Iterations: 15\n",
      "x: [[0.99912225 1.00030081 1.00012856]] \n",
      "\n",
      "\t\tTest 1\n",
      "Iterations: 6717\n",
      "x: [[9.99902056e+00 2.00016424e+00 1.11948536e-04]] \n",
      "\n",
      "\t\tTest 2\n",
      "Iterations: 268\n",
      "x: [[0.99979257 2.00058599 2.99966911]] \n",
      "\n",
      "\t\tTest 3\n",
      "Iterations: 5\n",
      "x: [[0.99969301 1.00009038 1.00005194]] \n",
      "\n",
      "\t\tTest 4\n",
      "Iterations: 11\n",
      "x: [[1.35193161 1.30817366 1.27399604]] \n",
      "\n",
      "\t\tTest 5\n",
      "Iterations: 30\n",
      "x: [[1.29920858 1.11832702 1.08163052]] \n",
      "\n",
      "\t\tTest 6\n",
      "Iterations: 749\n",
      "x: [[-3.9993869  -0.66653284  6.24922453]] \n",
      "\n"
     ]
    }
   ],
   "source": [
    "for i in range(len(A)):\n",
    "    print(\"\\t\\tTest\", i)\n",
    "    simple_iteration(A[i], b[i])"
   ]
  },
  {
   "cell_type": "markdown",
   "metadata": {},
   "source": [
    "# Метод Зейделя"
   ]
  },
  {
   "cell_type": "code",
   "execution_count": 16,
   "metadata": {},
   "outputs": [],
   "source": [
    "def seidel(A, b):\n",
    "    if not A.det() :\n",
    "        print(\"Матрица А особая\")\n",
    "        return 0\n",
    "    n = A.shape[0]\n",
    "    b = b.T()\n",
    "    \n",
    "    M = [abs(A[i, i]) > (sum(abs(A.array[i]))-abs(A[i, i])) for i in range(n)]\n",
    "    if sum(M) != n:\n",
    "        b = A.T() @ b\n",
    "        A = A.T() @ A\n",
    "    C = Array(A.array)\n",
    "    C = Array([C.array[i]*(-1/A[i, i]) for i in range(n)]) + Array(np.eye(n))\n",
    "    d = Array([[b[i, 0]/A[i, i] for i in range(n)]]).T()\n",
    "    x_old = Array(d.array)\n",
    "    x = Array(x_old.array)\n",
    "    for i in range(n):\n",
    "        x_old = Array(x.array)\n",
    "        x.array[i] = (Array([C.array[i]]) @ x_old)[0, 0] + d[i, 0]\n",
    "    iterations = 1\n",
    "    while v_norms[v_n_norm](A @ x - b) > eps:\n",
    "        for i in range(n):\n",
    "            x_old = Array(x.array)\n",
    "            x.array[i] = (Array([C.array[i]]) @ x_old)[0, 0] + d[i, 0]\n",
    "        iterations += 1\n",
    "    print('Iterations:', iterations)\n",
    "    print('x', x.T().array)\n",
    "    return x"
   ]
  },
  {
   "cell_type": "code",
   "execution_count": 17,
   "metadata": {},
   "outputs": [
    {
     "name": "stdout",
     "output_type": "stream",
     "text": [
      "\t\tTest 0\n",
      "Iterations: 4\n",
      "x [[1.00022736 0.99997049 0.99997174]]\n",
      "\t\tTest 1\n",
      "Iterations: 155\n",
      "x [[9.99205852e+00 2.00130288e+00 9.13616319e-04]]\n",
      "\t\tTest 2\n",
      "Iterations: 333\n",
      "x [[1.00106769 1.99772852 3.00114836]]\n",
      "\t\tTest 3\n",
      "Iterations: 3\n",
      "x [[1.00001096 1.00000029 0.99999934]]\n",
      "\t\tTest 4\n",
      "Iterations: 3\n",
      "x [[1.35248617 1.3084388  1.27417206]]\n",
      "\t\tTest 5\n",
      "Iterations: 18\n",
      "x [[1.29974595 1.1188286  1.08220513]]\n",
      "\t\tTest 6\n",
      "Iterations: 8464\n",
      "x [[-3.99853703 -0.66628931  6.24808758]]\n"
     ]
    }
   ],
   "source": [
    "for i in range(len(A)):\n",
    "    print(\"\\t\\tTest\", i)\n",
    "    seidel(A[i], b[i])"
   ]
  },
  {
   "cell_type": "markdown",
   "metadata": {},
   "source": [
    "# Метод Гаусса"
   ]
  },
  {
   "cell_type": "code",
   "execution_count": 18,
   "metadata": {},
   "outputs": [],
   "source": [
    "def gauss(A, b):\n",
    "    if not A.det() :\n",
    "        print(\"Матрица А особая\")\n",
    "        return 0\n",
    "    A = Array(A.array)\n",
    "    n = A.shape[0]\n",
    "    b = b.T()\n",
    "    for i in range(n):\n",
    "        T = A.T()\n",
    "        m = np.argmax(abs(T.array[i][i:]))\n",
    "        A.array[i], A.array[i+m] = np.array(A.array[i+m]), np.array(A.array[i])\n",
    "        b.array[i], b.array[i+m] = np.array(b.array[i+m]), np.array(b.array[i])\n",
    "        a = A[i, i]\n",
    "        A.array[i] = A.array[i]*(1/a)\n",
    "        b.array[i] = b.array[i]*(1/a)\n",
    "        for j in range(i+1, n):\n",
    "            b.array[j] = np.array(b.array[j] - A[j, i] * b.array[i])\n",
    "            A.array[j] = np.array(A.array[j] - A[j, i] * A.array[i])\n",
    "    x = Array(np.zeros(b.shape))\n",
    "    x.array[n-1] = b.array[n-1]\n",
    "    for i in range(n-1):\n",
    "        tmp = Array(-x.array)\n",
    "        x.array[n-2-i] = (Array([A.array[n-2-i]]) @ tmp)[0,0] + b.array[n-2-i]\n",
    "    print(x.T().array)\n",
    "    return x"
   ]
  },
  {
   "cell_type": "code",
   "execution_count": 19,
   "metadata": {},
   "outputs": [
    {
     "name": "stdout",
     "output_type": "stream",
     "text": [
      "\t\tTest 0\n",
      "[[1. 1. 1.]]\n",
      "\t\tTest 1\n",
      "[[10.  2.  0.]]\n",
      "\t\tTest 2\n",
      "[[1. 2. 3.]]\n",
      "\t\tTest 3\n",
      "[[1. 1. 1.]]\n",
      "\t\tTest 4\n",
      "[[1.35250918 1.30844553 1.27417381]]\n",
      "\t\tTest 5\n",
      "[[1.29974851 1.11883056 1.08220685]]\n",
      "\t\tTest 6\n",
      "[[-4.         -0.66666667  6.25      ]]\n"
     ]
    }
   ],
   "source": [
    "for i in range(len(A)):\n",
    "    print(\"\\t\\tTest\", i)\n",
    "    gauss(A[i], b[i])"
   ]
  },
  {
   "cell_type": "code",
   "execution_count": null,
   "metadata": {},
   "outputs": [],
   "source": []
  }
 ],
 "metadata": {
  "kernelspec": {
   "display_name": "Python 3",
   "language": "python",
   "name": "python3"
  },
  "language_info": {
   "codemirror_mode": {
    "name": "ipython",
    "version": 3
   },
   "file_extension": ".py",
   "mimetype": "text/x-python",
   "name": "python",
   "nbconvert_exporter": "python",
   "pygments_lexer": "ipython3",
   "version": "3.7.1"
  }
 },
 "nbformat": 4,
 "nbformat_minor": 2
}
