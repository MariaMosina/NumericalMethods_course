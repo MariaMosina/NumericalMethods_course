{
 "cells": [
  {
   "cell_type": "markdown",
   "metadata": {},
   "source": [
    "# Функция $z(x) = ch(1+ \\sqrt{1+x}) \\cdot cos{\\sqrt{1+x-x^2}}$"
   ]
  },
  {
   "cell_type": "code",
   "execution_count": 1,
   "metadata": {},
   "outputs": [],
   "source": [
    "import math as m\n",
    "import numpy as np\n",
    "import pandas as pd\n",
    "eps = 10**(-2)              #выбор погрешности обусловлен особенностью питона, \n",
    "                            #который округляет маленькие величины до 0\n",
    "c1 = 2.184\n",
    "c2 = 2.268"
   ]
  },
  {
   "cell_type": "markdown",
   "metadata": {},
   "source": [
    "### Квадратный корень"
   ]
  },
  {
   "cell_type": "code",
   "execution_count": 2,
   "metadata": {},
   "outputs": [],
   "source": [
    "def sqrt(x, eps = eps, delta=1):\n",
    "    p = (1+x)/2 \n",
    "    p1 = (p+x/p)/2\n",
    "    while abs(p-p1) > eps/delta:\n",
    "        p = p1\n",
    "        p1 = (p+x/p)/2\n",
    "    return p1"
   ]
  },
  {
   "cell_type": "markdown",
   "metadata": {},
   "source": [
    "### Факториал"
   ]
  },
  {
   "cell_type": "code",
   "execution_count": 3,
   "metadata": {},
   "outputs": [],
   "source": [
    "def factorial(x):\n",
    "    f=1\n",
    "    for i in range(1, x+1): f*=i\n",
    "    return f"
   ]
  },
  {
   "cell_type": "markdown",
   "metadata": {},
   "source": [
    "### Гиперболический косинус"
   ]
  },
  {
   "cell_type": "code",
   "execution_count": 4,
   "metadata": {},
   "outputs": [],
   "source": [
    "def ch(x, eps=eps):\n",
    "    rem = 1\n",
    "    k=1\n",
    "    res = rem\n",
    "    while rem > eps/3:\n",
    "        rem = x**(2*k)/factorial(2*k)\n",
    "        res += rem\n",
    "        k+=1\n",
    "    return res"
   ]
  },
  {
   "cell_type": "markdown",
   "metadata": {},
   "source": [
    "### Косинус"
   ]
  },
  {
   "cell_type": "code",
   "execution_count": 5,
   "metadata": {},
   "outputs": [],
   "source": [
    "def cos(x, eps = eps):\n",
    "    if abs(x) < m.pi/2:\n",
    "        rem = 1\n",
    "        k=1\n",
    "        res = rem\n",
    "        while abs(rem) > eps/3:\n",
    "            rem = (-1)**k * x**(2*k)/factorial(2*k)\n",
    "            res += rem\n",
    "            k+=1\n",
    "        return res\n",
    "    else:\n",
    "        print(\"Аргумент х выходит за пределы необходимого диапазона\")"
   ]
  },
  {
   "cell_type": "markdown",
   "metadata": {},
   "source": [
    "### Итоговая функция"
   ]
  },
  {
   "cell_type": "code",
   "execution_count": 6,
   "metadata": {},
   "outputs": [],
   "source": [
    "def z(x, eps = eps):\n",
    "    phi = 1+sqrt(1+x, delta = 3*c1)\n",
    "    ksi = sqrt(1+x-x**2, delta = 3*c2)\n",
    "    return ch(phi)*cos(ksi)"
   ]
  },
  {
   "cell_type": "markdown",
   "metadata": {},
   "source": [
    "### Итоговая функция, реализованная с помощью функций библиотеки Math"
   ]
  },
  {
   "cell_type": "code",
   "execution_count": 7,
   "metadata": {},
   "outputs": [],
   "source": [
    "def m_z(x):\n",
    "    return m.cosh(1+m.sqrt(1+x))* m.cos(m.sqrt(1+x-x**2))"
   ]
  },
  {
   "cell_type": "markdown",
   "metadata": {},
   "source": [
    "## Создание всех необходимых колонок"
   ]
  },
  {
   "cell_type": "code",
   "execution_count": 8,
   "metadata": {},
   "outputs": [],
   "source": [
    "x_s = [round(0.1+i*0.01, 3) for i in range(11)]"
   ]
  },
  {
   "cell_type": "code",
   "execution_count": 9,
   "metadata": {},
   "outputs": [],
   "source": [
    "phi_s, ksi_s, z_s = [], [], []\n",
    "m_phi_s, m_ksi_s, m_z_s = [], [], []\n",
    "for i, x in enumerate(x_s):\n",
    "    phi_s.append(1+sqrt(1+x, delta = 3*c1))\n",
    "    ksi_s.append(sqrt(1+x-x**2, delta = 3*c2))\n",
    "    z_s.append(ch(phi_s[i])*cos(ksi_s[i]))\n",
    "    m_phi_s.append(1+m.sqrt(1+x))\n",
    "    m_ksi_s.append(m.sqrt(1+x-x**2))\n",
    "    m_z_s.append(m_z(x))"
   ]
  },
  {
   "cell_type": "code",
   "execution_count": 10,
   "metadata": {},
   "outputs": [],
   "source": [
    "phi_s = np.array(phi_s, dtype = 'float64')\n",
    "ksi_s = np.array(ksi_s, dtype = 'float64')\n",
    "z_s = np.array(z_s, dtype = 'float64')\n",
    "m_phi_s = np.array(m_phi_s, dtype = 'float64')\n",
    "m_ksi_s = np.array(m_ksi_s, dtype = 'float64')\n",
    "m_z_s = np.array(m_z_s, dtype = 'float64')"
   ]
  },
  {
   "cell_type": "code",
   "execution_count": 11,
   "metadata": {},
   "outputs": [],
   "source": [
    "a_phi = abs(m_phi_s - phi_s)\n",
    "a_ksi = abs(m_ksi_s - ksi_s) \n",
    "a_z = abs(m_z_s - z_s) "
   ]
  },
  {
   "cell_type": "code",
   "execution_count": 12,
   "metadata": {},
   "outputs": [],
   "source": [
    "d = {\n",
    "    'phi(x)': phi_s,\n",
    "    'оценка погрешности eps1': np.array([eps/(3*c1)]*len(x_s)),\n",
    "    'Phi(x)': m_phi_s,\n",
    "    'абс. погр. phi(x)': a_phi,\n",
    "    'ksi(x)': ksi_s,\n",
    "    'оценка погрешности eps2': np.array([eps/(3*c2)]*len(x_s)),\n",
    "    'Ksi(x)': m_ksi_s,\n",
    "    'абс. погр. ksi(x)': a_ksi,\n",
    "    'z(x)': z_s,\n",
    "    'оценка погрешности eps3': np.array([eps/3]*len(x_s)),\n",
    "    'Z(x)': m_z_s,\n",
    "    'абс. погр. z(x)': a_z,\n",
    "    'погрешность': [eps]*len(x_s)\n",
    "}"
   ]
  },
  {
   "cell_type": "markdown",
   "metadata": {},
   "source": [
    "## Таблица с результатами"
   ]
  },
  {
   "cell_type": "code",
   "execution_count": 13,
   "metadata": {
    "scrolled": true
   },
   "outputs": [
    {
     "data": {
      "text/html": [
       "<div>\n",
       "<style scoped>\n",
       "    .dataframe tbody tr th:only-of-type {\n",
       "        vertical-align: middle;\n",
       "    }\n",
       "\n",
       "    .dataframe tbody tr th {\n",
       "        vertical-align: top;\n",
       "    }\n",
       "\n",
       "    .dataframe thead th {\n",
       "        text-align: right;\n",
       "    }\n",
       "</style>\n",
       "<table border=\"1\" class=\"dataframe\">\n",
       "  <thead>\n",
       "    <tr style=\"text-align: right;\">\n",
       "      <th></th>\n",
       "      <th>phi(x)</th>\n",
       "      <th>оценка погрешности eps1</th>\n",
       "      <th>Phi(x)</th>\n",
       "      <th>абс. погр. phi(x)</th>\n",
       "      <th>ksi(x)</th>\n",
       "      <th>оценка погрешности eps2</th>\n",
       "      <th>Ksi(x)</th>\n",
       "      <th>абс. погр. ksi(x)</th>\n",
       "      <th>z(x)</th>\n",
       "      <th>оценка погрешности eps3</th>\n",
       "      <th>Z(x)</th>\n",
       "      <th>абс. погр. z(x)</th>\n",
       "      <th>погрешность</th>\n",
       "    </tr>\n",
       "  </thead>\n",
       "  <tbody>\n",
       "    <tr>\n",
       "      <th>0.10</th>\n",
       "      <td>2.048810</td>\n",
       "      <td>0.001526</td>\n",
       "      <td>2.048809</td>\n",
       "      <td>6.756394e-07</td>\n",
       "      <td>1.044031</td>\n",
       "      <td>0.00147</td>\n",
       "      <td>1.044031</td>\n",
       "      <td>4.495874e-07</td>\n",
       "      <td>1.982549</td>\n",
       "      <td>0.003333</td>\n",
       "      <td>1.982692</td>\n",
       "      <td>0.000143</td>\n",
       "      <td>0.01</td>\n",
       "    </tr>\n",
       "    <tr>\n",
       "      <th>0.11</th>\n",
       "      <td>2.053566</td>\n",
       "      <td>0.001526</td>\n",
       "      <td>2.053565</td>\n",
       "      <td>9.754256e-07</td>\n",
       "      <td>1.047808</td>\n",
       "      <td>0.00147</td>\n",
       "      <td>1.047807</td>\n",
       "      <td>6.224862e-07</td>\n",
       "      <td>1.978741</td>\n",
       "      <td>0.003333</td>\n",
       "      <td>1.978888</td>\n",
       "      <td>0.000147</td>\n",
       "      <td>0.01</td>\n",
       "    </tr>\n",
       "    <tr>\n",
       "      <th>0.12</th>\n",
       "      <td>2.058301</td>\n",
       "      <td>0.001526</td>\n",
       "      <td>2.058301</td>\n",
       "      <td>8.770762e-13</td>\n",
       "      <td>1.051476</td>\n",
       "      <td>0.00147</td>\n",
       "      <td>1.051475</td>\n",
       "      <td>8.335944e-07</td>\n",
       "      <td>1.975162</td>\n",
       "      <td>0.003333</td>\n",
       "      <td>1.975317</td>\n",
       "      <td>0.000155</td>\n",
       "      <td>0.01</td>\n",
       "    </tr>\n",
       "    <tr>\n",
       "      <th>0.13</th>\n",
       "      <td>2.063015</td>\n",
       "      <td>0.001526</td>\n",
       "      <td>2.063015</td>\n",
       "      <td>1.611156e-12</td>\n",
       "      <td>1.055036</td>\n",
       "      <td>0.00147</td>\n",
       "      <td>1.055036</td>\n",
       "      <td>5.584422e-13</td>\n",
       "      <td>1.971824</td>\n",
       "      <td>0.003333</td>\n",
       "      <td>1.971980</td>\n",
       "      <td>0.000157</td>\n",
       "      <td>0.01</td>\n",
       "    </tr>\n",
       "    <tr>\n",
       "      <th>0.14</th>\n",
       "      <td>2.067708</td>\n",
       "      <td>0.001526</td>\n",
       "      <td>2.067708</td>\n",
       "      <td>2.822631e-12</td>\n",
       "      <td>1.058489</td>\n",
       "      <td>0.00147</td>\n",
       "      <td>1.058489</td>\n",
       "      <td>8.995027e-13</td>\n",
       "      <td>1.968721</td>\n",
       "      <td>0.003333</td>\n",
       "      <td>1.968883</td>\n",
       "      <td>0.000161</td>\n",
       "      <td>0.01</td>\n",
       "    </tr>\n",
       "    <tr>\n",
       "      <th>0.15</th>\n",
       "      <td>2.072381</td>\n",
       "      <td>0.001526</td>\n",
       "      <td>2.072381</td>\n",
       "      <td>4.748646e-12</td>\n",
       "      <td>1.061838</td>\n",
       "      <td>0.00147</td>\n",
       "      <td>1.061838</td>\n",
       "      <td>1.390221e-12</td>\n",
       "      <td>1.965861</td>\n",
       "      <td>0.003333</td>\n",
       "      <td>1.966027</td>\n",
       "      <td>0.000166</td>\n",
       "      <td>0.01</td>\n",
       "    </tr>\n",
       "    <tr>\n",
       "      <th>0.16</th>\n",
       "      <td>2.077033</td>\n",
       "      <td>0.001526</td>\n",
       "      <td>2.077033</td>\n",
       "      <td>7.711165e-12</td>\n",
       "      <td>1.065082</td>\n",
       "      <td>0.00147</td>\n",
       "      <td>1.065082</td>\n",
       "      <td>2.073230e-12</td>\n",
       "      <td>1.963247</td>\n",
       "      <td>0.003333</td>\n",
       "      <td>1.963418</td>\n",
       "      <td>0.000171</td>\n",
       "      <td>0.01</td>\n",
       "    </tr>\n",
       "    <tr>\n",
       "      <th>0.17</th>\n",
       "      <td>2.081665</td>\n",
       "      <td>0.001526</td>\n",
       "      <td>2.081665</td>\n",
       "      <td>1.213785e-11</td>\n",
       "      <td>1.068223</td>\n",
       "      <td>0.00147</td>\n",
       "      <td>1.068223</td>\n",
       "      <td>2.994494e-12</td>\n",
       "      <td>1.960882</td>\n",
       "      <td>0.003333</td>\n",
       "      <td>1.961057</td>\n",
       "      <td>0.000176</td>\n",
       "      <td>0.01</td>\n",
       "    </tr>\n",
       "    <tr>\n",
       "      <th>0.18</th>\n",
       "      <td>2.086278</td>\n",
       "      <td>0.001526</td>\n",
       "      <td>2.086278</td>\n",
       "      <td>1.858647e-11</td>\n",
       "      <td>1.071261</td>\n",
       "      <td>0.00147</td>\n",
       "      <td>1.071261</td>\n",
       "      <td>4.205747e-12</td>\n",
       "      <td>1.958769</td>\n",
       "      <td>0.003333</td>\n",
       "      <td>1.958950</td>\n",
       "      <td>0.000181</td>\n",
       "      <td>0.01</td>\n",
       "    </tr>\n",
       "    <tr>\n",
       "      <th>0.19</th>\n",
       "      <td>2.090871</td>\n",
       "      <td>0.001526</td>\n",
       "      <td>2.090871</td>\n",
       "      <td>2.777112e-11</td>\n",
       "      <td>1.074197</td>\n",
       "      <td>0.00147</td>\n",
       "      <td>1.074197</td>\n",
       "      <td>5.759837e-12</td>\n",
       "      <td>1.956913</td>\n",
       "      <td>0.003333</td>\n",
       "      <td>1.957098</td>\n",
       "      <td>0.000185</td>\n",
       "      <td>0.01</td>\n",
       "    </tr>\n",
       "    <tr>\n",
       "      <th>0.20</th>\n",
       "      <td>2.095445</td>\n",
       "      <td>0.001526</td>\n",
       "      <td>2.095445</td>\n",
       "      <td>4.059197e-11</td>\n",
       "      <td>1.077033</td>\n",
       "      <td>0.00147</td>\n",
       "      <td>1.077033</td>\n",
       "      <td>7.711165e-12</td>\n",
       "      <td>1.955317</td>\n",
       "      <td>0.003333</td>\n",
       "      <td>1.955507</td>\n",
       "      <td>0.000190</td>\n",
       "      <td>0.01</td>\n",
       "    </tr>\n",
       "  </tbody>\n",
       "</table>\n",
       "</div>"
      ],
      "text/plain": [
       "        phi(x)  оценка погрешности eps1    Phi(x)  абс. погр. phi(x)  \\\n",
       "0.10  2.048810                 0.001526  2.048809       6.756394e-07   \n",
       "0.11  2.053566                 0.001526  2.053565       9.754256e-07   \n",
       "0.12  2.058301                 0.001526  2.058301       8.770762e-13   \n",
       "0.13  2.063015                 0.001526  2.063015       1.611156e-12   \n",
       "0.14  2.067708                 0.001526  2.067708       2.822631e-12   \n",
       "0.15  2.072381                 0.001526  2.072381       4.748646e-12   \n",
       "0.16  2.077033                 0.001526  2.077033       7.711165e-12   \n",
       "0.17  2.081665                 0.001526  2.081665       1.213785e-11   \n",
       "0.18  2.086278                 0.001526  2.086278       1.858647e-11   \n",
       "0.19  2.090871                 0.001526  2.090871       2.777112e-11   \n",
       "0.20  2.095445                 0.001526  2.095445       4.059197e-11   \n",
       "\n",
       "        ksi(x)  оценка погрешности eps2    Ksi(x)  абс. погр. ksi(x)  \\\n",
       "0.10  1.044031                  0.00147  1.044031       4.495874e-07   \n",
       "0.11  1.047808                  0.00147  1.047807       6.224862e-07   \n",
       "0.12  1.051476                  0.00147  1.051475       8.335944e-07   \n",
       "0.13  1.055036                  0.00147  1.055036       5.584422e-13   \n",
       "0.14  1.058489                  0.00147  1.058489       8.995027e-13   \n",
       "0.15  1.061838                  0.00147  1.061838       1.390221e-12   \n",
       "0.16  1.065082                  0.00147  1.065082       2.073230e-12   \n",
       "0.17  1.068223                  0.00147  1.068223       2.994494e-12   \n",
       "0.18  1.071261                  0.00147  1.071261       4.205747e-12   \n",
       "0.19  1.074197                  0.00147  1.074197       5.759837e-12   \n",
       "0.20  1.077033                  0.00147  1.077033       7.711165e-12   \n",
       "\n",
       "          z(x)  оценка погрешности eps3      Z(x)  абс. погр. z(x)  \\\n",
       "0.10  1.982549                 0.003333  1.982692         0.000143   \n",
       "0.11  1.978741                 0.003333  1.978888         0.000147   \n",
       "0.12  1.975162                 0.003333  1.975317         0.000155   \n",
       "0.13  1.971824                 0.003333  1.971980         0.000157   \n",
       "0.14  1.968721                 0.003333  1.968883         0.000161   \n",
       "0.15  1.965861                 0.003333  1.966027         0.000166   \n",
       "0.16  1.963247                 0.003333  1.963418         0.000171   \n",
       "0.17  1.960882                 0.003333  1.961057         0.000176   \n",
       "0.18  1.958769                 0.003333  1.958950         0.000181   \n",
       "0.19  1.956913                 0.003333  1.957098         0.000185   \n",
       "0.20  1.955317                 0.003333  1.955507         0.000190   \n",
       "\n",
       "      погрешность  \n",
       "0.10         0.01  \n",
       "0.11         0.01  \n",
       "0.12         0.01  \n",
       "0.13         0.01  \n",
       "0.14         0.01  \n",
       "0.15         0.01  \n",
       "0.16         0.01  \n",
       "0.17         0.01  \n",
       "0.18         0.01  \n",
       "0.19         0.01  \n",
       "0.20         0.01  "
      ]
     },
     "execution_count": 13,
     "metadata": {},
     "output_type": "execute_result"
    }
   ],
   "source": [
    "pd.DataFrame(data=d, index = x_s, dtype = 'float64')"
   ]
  },
  {
   "cell_type": "code",
   "execution_count": null,
   "metadata": {},
   "outputs": [],
   "source": []
  },
  {
   "cell_type": "code",
   "execution_count": null,
   "metadata": {},
   "outputs": [],
   "source": []
  }
 ],
 "metadata": {
  "kernelspec": {
   "display_name": "Python 3",
   "language": "python",
   "name": "python3"
  },
  "language_info": {
   "codemirror_mode": {
    "name": "ipython",
    "version": 3
   },
   "file_extension": ".py",
   "mimetype": "text/x-python",
   "name": "python",
   "nbconvert_exporter": "python",
   "pygments_lexer": "ipython3",
   "version": "3.7.1"
  }
 },
 "nbformat": 4,
 "nbformat_minor": 2
}
