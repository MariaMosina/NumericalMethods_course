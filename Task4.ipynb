{
 "cells": [
  {
   "cell_type": "markdown",
   "metadata": {},
   "source": [
    "## $f(x, y, z) = 2x^2 + (3+0.1N)y^2+(4+0.1N)z^2+xy-yz+xz+x-2y+3z+N$"
   ]
  },
  {
   "cell_type": "code",
   "execution_count": 1,
   "metadata": {},
   "outputs": [],
   "source": [
    "N = 6\n",
    "eps = 10**(-6)\n",
    "def f(x, y, z): return 2*x**2 + (3+0.1*N)*y**2 + (4+0.1*N)*z**2 + x*y - y*z + x*z +x - 2*y + 3*z + N"
   ]
  },
  {
   "cell_type": "code",
   "execution_count": 2,
   "metadata": {},
   "outputs": [],
   "source": [
    "from numerical_methods import Array, v_norm_2\n",
    "import numpy as np"
   ]
  },
  {
   "cell_type": "code",
   "execution_count": 3,
   "metadata": {},
   "outputs": [],
   "source": [
    "A = Array([[4,1,1], [1,2*(3+0.1*N),-1], [1,-1,2*(4+0.1*N)]])\n",
    "b = Array([[1, -2, 3]]).T()"
   ]
  },
  {
   "cell_type": "code",
   "execution_count": 4,
   "metadata": {},
   "outputs": [],
   "source": [
    "x_new = Array([[1, 1, 1]]).T()"
   ]
  },
  {
   "cell_type": "markdown",
   "metadata": {},
   "source": [
    "# МНГС"
   ]
  },
  {
   "cell_type": "code",
   "execution_count": 5,
   "metadata": {},
   "outputs": [],
   "source": [
    "def grad_descent(A, b, x_new):    \n",
    "    n=0\n",
    "    while ( n == 0) or v_norm_2(x_new-x_old) > eps:\n",
    "        x_old = x_new\n",
    "        q = A @ x_old + b\n",
    "        Aq = A @ q\n",
    "        mu = - sum((q * q).array) / sum((q * Aq).array)\n",
    "        x_new = x_old + Array([mu, mu, mu]) * q\n",
    "        n+=1\n",
    "    print(\"Количество итераций:\", n)\n",
    "    return x_new"
   ]
  },
  {
   "cell_type": "code",
   "execution_count": 6,
   "metadata": {},
   "outputs": [
    {
     "name": "stdout",
     "output_type": "stream",
     "text": [
      "Количество итераций: 19\n",
      "x: [[-0.2516487 ]\n",
      " [ 0.27539571]\n",
      " [-0.26879974]]\n",
      "f(x): 5.195580474934518\n"
     ]
    }
   ],
   "source": [
    "x = grad_descent(A, b, x_new)\n",
    "print(\"x:\", x.array)\n",
    "print(\"f(x):\", f(*x.array)[0])"
   ]
  },
  {
   "cell_type": "code",
   "execution_count": 7,
   "metadata": {},
   "outputs": [
    {
     "name": "stdout",
     "output_type": "stream",
     "text": [
      "Delta: -4.813927034774679e-13\n"
     ]
    }
   ],
   "source": [
    "x_true = Array([[-763/3032, 835/3032, -815/3032]]).T()\n",
    "print('Delta:', f(*x_true.array)[0] - f(*x.array)[0])"
   ]
  },
  {
   "cell_type": "markdown",
   "metadata": {},
   "source": [
    "# МНПС"
   ]
  },
  {
   "cell_type": "code",
   "execution_count": 8,
   "metadata": {},
   "outputs": [],
   "source": [
    "def coord_descent(A, b, x_new):\n",
    "    n=0\n",
    "    while True:\n",
    "        for i in range(3):\n",
    "            x_old = x_new\n",
    "            e = Array([[0, 0, 0]]).T()\n",
    "            e.array[i] = [1]\n",
    "            mu = - sum((e * (A @ x_old + b)).array) / sum((e * (A @ e)).array)\n",
    "            x_new = x_old + Array([mu,mu,mu]) * e\n",
    "            n+=1\n",
    "            check = v_norm_2(x_new-x_old) < eps\n",
    "            if check: \n",
    "                print(\"Количество итераций:\", n)\n",
    "                return x_new"
   ]
  },
  {
   "cell_type": "code",
   "execution_count": 9,
   "metadata": {},
   "outputs": [
    {
     "name": "stdout",
     "output_type": "stream",
     "text": [
      "Количество итераций: 23\n",
      "x: [[-0.25164924]\n",
      " [ 0.27539583]\n",
      " [-0.26879926]]\n",
      "f(x): 5.195580474934246\n"
     ]
    }
   ],
   "source": [
    "x = coord_descent(A, b, x_new)\n",
    "print(\"x:\", x.array)\n",
    "print(\"f(x):\", f(*x.array)[0])"
   ]
  },
  {
   "cell_type": "code",
   "execution_count": 10,
   "metadata": {},
   "outputs": [
    {
     "name": "stdout",
     "output_type": "stream",
     "text": [
      "Delta: -2.0961010704922955e-13\n"
     ]
    }
   ],
   "source": [
    "x_true = Array([[-763/3032, 835/3032, -815/3032]]).T()\n",
    "print('Delta:', f(*x_true.array)[0] - f(*x.array)[0])"
   ]
  }
 ],
 "metadata": {
  "kernelspec": {
   "display_name": "Python 3",
   "language": "python",
   "name": "python3"
  },
  "language_info": {
   "codemirror_mode": {
    "name": "ipython",
    "version": 3
   },
   "file_extension": ".py",
   "mimetype": "text/x-python",
   "name": "python",
   "nbconvert_exporter": "python",
   "pygments_lexer": "ipython3",
   "version": "3.7.1"
  }
 },
 "nbformat": 4,
 "nbformat_minor": 2
}
